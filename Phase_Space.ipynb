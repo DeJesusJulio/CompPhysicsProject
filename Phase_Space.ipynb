{
 "cells": [
  {
   "cell_type": "code",
   "execution_count": null,
   "metadata": {},
   "outputs": [],
   "source": [
    "from numba import jit\n",
    "import matplotlib.pyplot as plt\n",
    "import numpy as np"
   ]
  },
  {
   "cell_type": "code",
   "execution_count": 2,
   "metadata": {},
   "outputs": [
    {
     "name": "stdout",
     "output_type": "stream",
     "text": [
      "Number of collisions: 31\n"
     ]
    }
   ],
   "source": [
    "\n",
    "def calculate_pi_collisions(n_digits):\n",
    "    # Mass ratio: m2/m1 = 100^(n-1)\n",
    "    m1 = 1  # Mass of the first ball\n",
    "    m2 = 10**(n_digits - 1)  # Mass of the second ball. for 100,000,000 takes 1 min to run.\n",
    "\n",
    "    # Initial velocities\n",
    "    v1 = 0  # Ball 1 starts stationary\n",
    "    v2 = -1  # Ball 2 moves toward Ball 1\n",
    "    collisions = 0  # Count collisions\n",
    "    x = []\n",
    "    y = []\n",
    "\n",
    "    while True:\n",
    "        # Check for collision between the balls\n",
    "        if v2 < v1:\n",
    "            collisions += 1\n",
    "            # Update velocities using elastic collision formulas\n",
    "            new_v1 = ((m1 - m2) / (m1 + m2)) * v1 + (2 * m2 / (m1 + m2)) * v2\n",
    "            new_v2 = ((m2 - m1) / (m1 + m2)) * v2 + (2 * m1 / (m1 + m2)) * v1\n",
    "            v1, v2 = new_v1, new_v2\n",
    "\n",
    "        # Check for collision with the wall (Ball 1 hitting wall)\n",
    "        if v1 < 0:\n",
    "            collisions += 1\n",
    "            v1 = -v1  # Reverse velocity of Ball 1\n",
    "\n",
    "        # Stop if Ball 2 is moving away from Ball 1\n",
    "        if v2 >= v1:\n",
    "            break\n",
    "\n",
    "    return collisions\n",
    "\n",
    "\n",
    "# Example: Calculate π to 3 digits\n",
    "n_digits = 3\n",
    "pi_collisions = calculate_pi_collisions(n_digits)\n",
    "print(f\"Number of collisions: {pi_collisions}\")\n",
    "\n"
   ]
  },
  {
   "cell_type": "code",
   "execution_count": 3,
   "metadata": {},
   "outputs": [
    {
     "ename": "KeyboardInterrupt",
     "evalue": "",
     "output_type": "error",
     "traceback": [
      "\u001b[0;31m---------------------------------------------------------------------------\u001b[0m",
      "\u001b[0;31mKeyboardInterrupt\u001b[0m                         Traceback (most recent call last)",
      "\u001b[1;32m/Users/adrianliborio/Desktop/CS/PHY300/Phase_Space.ipynb Cell 3\u001b[0m line \u001b[0;36m3\n\u001b[1;32m     <a href='vscode-notebook-cell:/Users/adrianliborio/Desktop/CS/PHY300/Phase_Space.ipynb#W1sZmlsZQ%3D%3D?line=27'>28</a>\u001b[0m     \u001b[39mreturn\u001b[39;00m collisions, x_values, y_values\n\u001b[1;32m     <a href='vscode-notebook-cell:/Users/adrianliborio/Desktop/CS/PHY300/Phase_Space.ipynb#W1sZmlsZQ%3D%3D?line=29'>30</a>\u001b[0m n_digits \u001b[39m=\u001b[39m \u001b[39m3\u001b[39m\n\u001b[0;32m---> <a href='vscode-notebook-cell:/Users/adrianliborio/Desktop/CS/PHY300/Phase_Space.ipynb#W1sZmlsZQ%3D%3D?line=30'>31</a>\u001b[0m pi_collisions, x_values, y_values \u001b[39m=\u001b[39m calculate_pi_collisions(n_digits)\n\u001b[1;32m     <a href='vscode-notebook-cell:/Users/adrianliborio/Desktop/CS/PHY300/Phase_Space.ipynb#W1sZmlsZQ%3D%3D?line=31'>32</a>\u001b[0m \u001b[39mprint\u001b[39m(\u001b[39mf\u001b[39m\u001b[39m\"\u001b[39m\u001b[39mNumber of collisions: \u001b[39m\u001b[39m{\u001b[39;00mpi_collisions\u001b[39m}\u001b[39;00m\u001b[39m\"\u001b[39m)\n\u001b[1;32m     <a href='vscode-notebook-cell:/Users/adrianliborio/Desktop/CS/PHY300/Phase_Space.ipynb#W1sZmlsZQ%3D%3D?line=33'>34</a>\u001b[0m plt\u001b[39m.\u001b[39mplot(x_values, y_values, marker\u001b[39m=\u001b[39m\u001b[39m'\u001b[39m\u001b[39mo\u001b[39m\u001b[39m'\u001b[39m)\n",
      "\u001b[1;32m/Users/adrianliborio/Desktop/CS/PHY300/Phase_Space.ipynb Cell 3\u001b[0m line \u001b[0;36m2\n\u001b[1;32m     <a href='vscode-notebook-cell:/Users/adrianliborio/Desktop/CS/PHY300/Phase_Space.ipynb#W1sZmlsZQ%3D%3D?line=19'>20</a>\u001b[0m     collisions \u001b[39m+\u001b[39m\u001b[39m=\u001b[39m \u001b[39m1\u001b[39m\n\u001b[1;32m     <a href='vscode-notebook-cell:/Users/adrianliborio/Desktop/CS/PHY300/Phase_Space.ipynb#W1sZmlsZQ%3D%3D?line=20'>21</a>\u001b[0m     v1 \u001b[39m=\u001b[39m \u001b[39m-\u001b[39mv1\n\u001b[0;32m---> <a href='vscode-notebook-cell:/Users/adrianliborio/Desktop/CS/PHY300/Phase_Space.ipynb#W1sZmlsZQ%3D%3D?line=21'>22</a>\u001b[0m     x_values\u001b[39m.\u001b[39mappend(np\u001b[39m.\u001b[39;49msqrt(m1) \u001b[39m*\u001b[39m v1)\n\u001b[1;32m     <a href='vscode-notebook-cell:/Users/adrianliborio/Desktop/CS/PHY300/Phase_Space.ipynb#W1sZmlsZQ%3D%3D?line=22'>23</a>\u001b[0m     y_values\u001b[39m.\u001b[39mappend(np\u001b[39m.\u001b[39msqrt(m2) \u001b[39m*\u001b[39m v2)\n\u001b[1;32m     <a href='vscode-notebook-cell:/Users/adrianliborio/Desktop/CS/PHY300/Phase_Space.ipynb#W1sZmlsZQ%3D%3D?line=24'>25</a>\u001b[0m \u001b[39mif\u001b[39;00m v2 \u001b[39m>\u001b[39m\u001b[39m=\u001b[39m v1:\n",
      "\u001b[0;31mKeyboardInterrupt\u001b[0m: "
     ]
    }
   ],
   "source": [
    "\n",
    "def calculate_pi_collisions(n_digits):\n",
    "    m1 = 1\n",
    "    m2 = 10e20**(n_digits - 1)\n",
    "    v1 = 0\n",
    "    v2 = -1\n",
    "    collisions = 0\n",
    "    x_values = []\n",
    "    y_values = []\n",
    "\n",
    "    while True:\n",
    "        if v2 < v1:\n",
    "            collisions += 1\n",
    "            new_v1 = ((m1 - m2) / (m1 + m2)) * v1 + (2 * m2 / (m1 + m2)) * v2\n",
    "            new_v2 = ((m2 - m1) / (m1 + m2)) * v2 + (2 * m1 / (m1 + m2)) * v1\n",
    "            v1, v2 = new_v1, new_v2\n",
    "            x_values.append(np.sqrt(m1) * v1)\n",
    "            y_values.append(np.sqrt(m2) * v2)\n",
    "\n",
    "        if v1 < 0:\n",
    "            collisions += 1\n",
    "            v1 = -v1\n",
    "            x_values.append(np.sqrt(m1) * v1)\n",
    "            y_values.append(np.sqrt(m2) * v2)\n",
    "\n",
    "        if v2 >= v1:\n",
    "            break\n",
    "\n",
    "    return collisions, x_values, y_values\n",
    "\n",
    "n_digits = 3\n",
    "pi_collisions, x_values, y_values = calculate_pi_collisions(n_digits)\n",
    "print(f\"Number of collisions: {pi_collisions}\")\n",
    "\n",
    "plt.plot(x_values, y_values, marker='o')\n",
    "plt.xlabel(r'$x = \\sqrt{m1} \\cdot v1$')\n",
    "plt.ylabel(r'$y = \\sqrt{m2} \\cdot v2$')\n",
    "plt.title('Plot')\n",
    "plt.grid(True)\n",
    "plt.show()"
   ]
  },
  {
   "cell_type": "code",
   "execution_count": null,
   "metadata": {},
   "outputs": [],
   "source": []
  }
 ],
 "metadata": {
  "kernelspec": {
   "display_name": ".venv",
   "language": "python",
   "name": "python3"
  },
  "language_info": {
   "codemirror_mode": {
    "name": "ipython",
    "version": 3
   },
   "file_extension": ".py",
   "mimetype": "text/x-python",
   "name": "python",
   "nbconvert_exporter": "python",
   "pygments_lexer": "ipython3",
   "version": "3.12.6"
  }
 },
 "nbformat": 4,
 "nbformat_minor": 2
}
