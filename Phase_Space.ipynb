{
 "cells": [
  {
   "cell_type": "code",
   "execution_count": 1,
   "metadata": {},
   "outputs": [],
   "source": [
    "from numba import jit\n",
    "import matplotlib.pyplot as plt\n",
    "import numpy as np"
   ]
  },
  {
   "cell_type": "code",
   "execution_count": 2,
   "metadata": {},
   "outputs": [
    {
     "name": "stdout",
     "output_type": "stream",
     "text": [
      "Number of collisions: 31\n"
     ]
    }
   ],
   "source": [
    "\n",
    "def calculate_pi_collisions(n_digits):\n",
    "    # Mass ratio: m2/m1 = 100^(n-1)\n",
    "    m1 = 1  # Mass of the first ball\n",
    "    m2 = 10**(n_digits - 1)  # Mass of the second ball. for 100,000,000 takes 1 min to run.\n",
    "\n",
    "    # Initial velocities\n",
    "    v1 = 0  # Ball 1 starts stationary\n",
    "    v2 = -1  # Ball 2 moves toward Ball 1\n",
    "    collisions = 0  # Count collisions\n",
    "    x = []\n",
    "    y = []\n",
    "\n",
    "    while True:\n",
    "        # Check for collision between the balls\n",
    "        if v2 < v1:\n",
    "            collisions += 1\n",
    "            # Update velocities using elastic collision formulas\n",
    "            new_v1 = ((m1 - m2) / (m1 + m2)) * v1 + (2 * m2 / (m1 + m2)) * v2\n",
    "            new_v2 = ((m2 - m1) / (m1 + m2)) * v2 + (2 * m1 / (m1 + m2)) * v1\n",
    "            v1, v2 = new_v1, new_v2\n",
    "\n",
    "        # Check for collision with the wall (Ball 1 hitting wall)\n",
    "        if v1 < 0:\n",
    "            collisions += 1\n",
    "            v1 = -v1  # Reverse velocity of Ball 1\n",
    "\n",
    "        # Stop if Ball 2 is moving away from Ball 1\n",
    "        if v2 >= v1:\n",
    "            break\n",
    "\n",
    "    return collisions\n",
    "\n",
    "\n",
    "# Example: Calculate π to 3 digits\n",
    "n_digits = 3\n",
    "pi_collisions = calculate_pi_collisions(n_digits)\n",
    "print(f\"Number of collisions: {pi_collisions}\")\n",
    "\n"
   ]
  },
  {
   "cell_type": "code",
   "execution_count": 2,
   "metadata": {},
   "outputs": [
    {
     "name": "stdout",
     "output_type": "stream",
     "text": [
      "Number of collisions: 31415926\n"
     ]
    }
   ],
   "source": [
    "\n",
    "pow_ten = 10\n",
    "\n",
    "def calculate_pi_collisions(n_digits):\n",
    "    m1 = 1\n",
    "    m2 = pow_ten**(n_digits - 1)\n",
    "    v1 = 0\n",
    "    v2 = -1\n",
    "    collisions = 0\n",
    "    x_values = []\n",
    "    y_values = []\n",
    "\n",
    "    while True:\n",
    "        if v2 < v1:\n",
    "            collisions += 1\n",
    "            new_v1 = ((m1 - m2) / (m1 + m2)) * v1 + (2 * m2 / (m1 + m2)) * v2\n",
    "            new_v2 = ((m2 - m1) / (m1 + m2)) * v2 + (2 * m1 / (m1 + m2)) * v1\n",
    "            v1, v2 = new_v1, new_v2\n",
    "            y_values.append(np.sqrt(m1) * v1)\n",
    "            x_values.append(np.sqrt(m2) * v2)\n",
    "\n",
    "        if v1 < 0:\n",
    "            collisions += 1\n",
    "            v1 = -v1\n",
    "            y_values.append(np.sqrt(m1) * v1)\n",
    "            x_values.append(np.sqrt(m2) * v2)\n",
    "\n",
    "        if v2 >= v1:\n",
    "            break\n",
    "\n",
    "    return collisions, x_values, y_values\n",
    "\n",
    "n_digits = 15\n",
    "pi_collisions, x_values, y_values = calculate_pi_collisions(n_digits)\n",
    "print(f\"Number of collisions: {pi_collisions}\")\n",
    "\n",
    "plt.figure(figsize=(8,8))\n",
    "# plot circle of radius pow_ten\n",
    "circle = plt.Circle((0, 0), pow_ten, color='r', fill=False)\n",
    "plt.gca().add_artist(circle)\n",
    "# plot the points\n",
    "plt.plot(x_values, y_values, marker='o')\n",
    "plt.xlabel(r'$x = \\sqrt{m1} \\cdot v1$')\n",
    "plt.ylabel(r'$y = \\sqrt{m2} \\cdot v2$')\n",
    "plt.title('Plot')\n",
    "plt.grid(True)\n",
    "plt.show()"
   ]
  },
  {
   "cell_type": "code",
   "execution_count": 25,
   "metadata": {},
   "outputs": [
    {
     "name": "stdout",
     "output_type": "stream",
     "text": [
      "Number of collisions: 31415926\n"
     ]
    },
    {
     "data": {
      "image/png": "[encoded data removed]",
      "text/plain": [
       "<Figure size 800x800 with 1 Axes>"
      ]
     },
     "metadata": {},
     "output_type": "display_data"
    }
   ],
   "source": [
    "\n",
    "pow_ten = 10\n",
    "\n",
    "def calculate_pi_collisions(n_digits):\n",
    "    m1 = 1\n",
    "    m2 = pow_ten**(n_digits - 1)\n",
    "    v1 = 0\n",
    "    v2 = -1\n",
    "    collisions = 0\n",
    "    x_values = []\n",
    "    y_values = []\n",
    "\n",
    "    # for calculating the new v1\n",
    "    ratio_1 = (m1 - m2) / (m1 + m2)\n",
    "    ratio_2 = 2 * m2 / (m1 + m2)\n",
    "\n",
    "    # for calculating the new v2\n",
    "    ratio_3 = (m2 - m1) / (m1 + m2)\n",
    "    ratio_4 = 2 * m1 / (m1 + m2)\n",
    "\n",
    "    m2_sqrt = np.sqrt(m2)\n",
    "    m1_sqrt = np.sqrt(m1)\n",
    "\n",
    "    while True:\n",
    "        if v2 < v1:\n",
    "            collisions += 1\n",
    "            new_v1 = ratio_1 * v1 + ratio_2 * v2\n",
    "            new_v2 = ratio_3 * v2 + ratio_4 * v1\n",
    "            v1, v2 = new_v1, new_v2\n",
    "            y_values.append(m1_sqrt * v1)\n",
    "            x_values.append(m2_sqrt * v2)\n",
    "        if v1 < 0:\n",
    "            collisions += 1\n",
    "            v1 = -v1\n",
    "            y_values.append(m1_sqrt * v1)\n",
    "            x_values.append(m2_sqrt * v2)\n",
    "        if v2 >= v1:\n",
    "            break\n",
    "\n",
    "    return collisions, x_values, y_values\n",
    "\n",
    "n_digits = 15\n",
    "pi_collisions, x_values, y_values = calculate_pi_collisions(n_digits)\n",
    "print(f\"Number of collisions: {pi_collisions}\")\n",
    "\n",
    "plt.figure(figsize=(8,8))\n",
    "# plot circle of radius pow_ten\n",
    "circle = plt.Circle((0, 0), pow_ten, color='r', fill=False)\n",
    "plt.gca().add_artist(circle)\n",
    "# plot the points\n",
    "plt.plot(x_values, y_values, marker='o')\n",
    "plt.xlabel(r'$x = \\sqrt{m1} \\cdot v1$')\n",
    "plt.ylabel(r'$y = \\sqrt{m2} \\cdot v2$')\n",
    "plt.title('Plot')\n",
    "plt.grid(True)\n",
    "plt.show()"
   ]
  },
  {
   "cell_type": "code",
   "execution_count": null,
   "metadata": {},
   "outputs": [],
   "source": []
  }
 ],
 "metadata": {
  "kernelspec": {
   "display_name": ".venv",
   "language": "python",
   "name": "python3"
  },
  "language_info": {
   "codemirror_mode": {
    "name": "ipython",
    "version": 3
   },
   "file_extension": ".py",
   "mimetype": "text/x-python",
   "name": "python",
   "nbconvert_exporter": "python",
   "pygments_lexer": "ipython3",
   "version": "3.12.6"
  }
 },
 "nbformat": 4,
 "nbformat_minor": 2
}
